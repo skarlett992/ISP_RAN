{
 "cells": [
  {
   "cell_type": "code",
   "execution_count": 21,
   "metadata": {},
   "outputs": [],
   "source": [
    "# синусовый ритм\n",
    "sinus = ['inusrhythmu', 'inusrhytmu', 'inus', 'inusrhythmu', 'inusrytm', 'sinusbradykardie', 'sinusrhythmus'\n",
    "        ]"
   ]
  },
  {
   "cell_type": "code",
   "execution_count": 22,
   "metadata": {},
   "outputs": [],
   "source": [
    "# аритмия \n",
    "arithmia = [\n",
    "    'rithmi', 'ritmi', 'atrial fibrillation', 'atrial flutter', 'vorhofflattern', 'vorhoffllimmern', \n",
    "    'tachyarrhythmie', 'arrhythmie', 'extrasystoli', 'premature atrial contraction', 'extrasystole',\n",
    "    'bigeminy','trigeminy'\n",
    "]"
   ]
  },
  {
   "cell_type": "code",
   "execution_count": 23,
   "metadata": {},
   "outputs": [],
   "source": [
    "# брадикардия\n",
    "bradykardie = ['radykardi', 'radycardi', 'sinusbradykardie'\n",
    "              ]"
   ]
  },
  {
   "cell_type": "code",
   "execution_count": 24,
   "metadata": {},
   "outputs": [],
   "source": [
    "# тахикардия\n",
    "tahicardia = [\n",
    "    'tahicard', 'tachycardia', 'vorhofstachykardie', 'vorhoftachykardie', 'tachykardie', 'tachykardes'\n",
    "]"
   ]
  },
  {
   "cell_type": "code",
   "execution_count": 25,
   "metadata": {},
   "outputs": [],
   "source": [
    "# фибрилляция предсердий\n",
    "fibrillation = [\n",
    "    'orhofflimm', 'Örmaksflimm', 'fibrillation', 'vorhofflattern', 'vorhoffllimmern', 'voehofflimmern',\n",
    "    'vonrhofflimmern'\n",
    "]"
   ]
  },
  {
   "cell_type": "code",
   "execution_count": 26,
   "metadata": {},
   "outputs": [],
   "source": [
    "nans = [\n",
    "    'trace only requested', 'trace only', 'pacemaker ekg'\n",
    "]"
   ]
  },
  {
   "cell_type": "code",
   "execution_count": 27,
   "metadata": {},
   "outputs": [],
   "source": [
    "dont_now = [\n",
    "    'regelmÄssiger rhythmus, keine p-welle erkannt rechtstyp linksposteriorer hemiblock',\n",
    "    'regular rhythm, no p wave found',\n",
    "    'there is second degree av block of wenckebach type',\n",
    "    'regelbunden rytm, inga p-vÅg funna lÅga qrs amplituder i extremitetsavledningarna avvikande qrs(t) fÖrlopp',\n",
    "    'sin.-arrhy. linkstyp rechtsschenkelblock',\n",
    "    'mlt rechts v2 vorhof-es partieller schenkelblock rechts st-hebung ekg grenzbefund',\n",
    "    'av-block-i. lah genomgangen anterolateral myokardskada uttalad st-sankning over framvagen ischemi',\n",
    "    'regelbunden rytm, inga p-vÅg funna extrem vÄnster el-axel vÄnstersidigt skÄnkelblock',\n",
    "    'regelmÄssiger rhythmus, keine p-welle erkannt lagetyp normal unvollstÄndiger rechtsschenkelblock',\n",
    "    'regelbunden rytm, inga p-vÅg funna mÅttliga amplitudkrit. fÖr vÄnster kammarkhypertrofi avvikande qrs(t) ',\n",
    "    'ch sicher        schlechte r- progression',\n",
    "    'p wave axis is abnormal, rhythm is probably junctional. voltages are high in chest leads suggesting lvh',\n",
    "    'regular rhythm, no definite p wave found. rhythm is probably junctional. left anterior fascicular block. \\\n",
    "    right bundle branch block. bifascicular block. patient may be at increased risk of developing  complete heart \\\n",
    "    block',\n",
    "    'kammerrhythmus linkslagetyp av-block iii. grades subakuter infarkt sicher (inferior,posterior) path. ekg',\n",
    "    'kammer-rhythmus lagetyp normal av-block iii. grades intraventr',\n",
    "    'kammer-rhythmus lagetyp normal av-block iii. grades intraventr. \\\n",
    "    leitungsstÖrung in avf sicher subakuter inferiorer-posteriorer infarkt path. ekg',\n",
    "    'hochlaterale ischÄmie',\n",
    "    'beschleunigter av-rhythmus lagetyp normal',\n",
    "    'p wave axis is abnormal and pr interval is short, rhythm is probably junctional',\n",
    "    'regelmÄssiger rhythmus, keine p-welle erkannt lagetyp normal rechtsschenkelblock',\n",
    "    'regelbunden rytm, inga p-vÅg funna vÄnster el-axel vÄnstersidigt skÄnkelblock',\n",
    "    'inferior myokardskada kan ej uteslutas st sÄnkning, mÖjligen orsakad av',\n",
    "    'mlt sr av-es trigeminie st-senkung in v5,6 hohes t in v2 tiefes t in iii q in iii pathologisches ekg',\n",
    "    'regelmÄssiger rhythmus, keine p-welle erkannt ueberdrehter linkstyp linksanteriorer hemiblock rechtsschenkelbl',\n",
    "    'beschleunigter av-rhythmus ueberdrehter linkstyp qrs(t) abnorm    inferiorer infarkt',\n",
    "    'p wave axis is abnormal, rhythm is probably junctional',\n",
    "    'right bundle branch block. bifascicular block',\n",
    "    'Überdrehter links-typ wandernder schrittmacher mÖglicher chronischer inferiorer,anteriorer infarkt',\n",
    "    'av-knotenrhythmus lagetyp normal t abnorm in hochlateralen ableitungen qt-verlÄngerung',\n",
    "    'beschleunigter av-rhythmus ueberdrehter linkstyp unspezifischer intraventrikulÄrer block',\n",
    "    'regelbunden rytm, inga p-vÅg funna ospecifik t-fÖrÄndring',\n",
    "    'regelbunden rytm, inga p-vÅg funna avvikande qrs(t) fÖrlopp',\n",
    "    'av-knotenrhythmus ueberdrehter linkstyp qrs(t) abnormal    septaler infarkt nicht auszuschliessen    inferiorer',\n",
    "    'linlslagetyp intraventr. leitungsstörung lll t-veränderungen, neg.v1',\n",
    "    'wandernder schrittmacher ueberdrehter rechtstyp rechtsschenkelblock path. repolarisation pathologisch',\n",
    "    'regelmÄssiger rhythmus, keine p-welle erkannt linkstyp linksschenkelblock linkshypertrophie mÖglich',\n",
    "    'beschleunigter av-rhythmus ueberdrehter linkstyp unvollstÄndiger linksschenkelblock',\n",
    "    'sr llt av-es Über 5/min. neg t in ii flache t in v1 mangelhafte r-progression pathologisches ekg',\n",
    "    'llt sr sves ( av-es ) av-block 1 mangelhafte r-progression pathologisches ekg',\n",
    "    'av-knotenrhythmus ueberdrehter linkstyp linksanteriorer hemiblock rechtsschenkelblock bifaszikulÄrer block',\n",
    "    'av-knotenrhythmus linkstyp qrs(t) abnormal    anteroseptaler myokardschaden nicht auszuschliessen',\n",
    "    'regelbunden rytm, inga p-vÅg funna extrem vÄnster el-axel hÖgersidigt skÄnkelblock avvikande',\n",
    "    'av-knotenrhythmus lagetyp normal linkshypertrophie',\n",
    "    'ruhe-ekg zur ergometrie: mlt, biphasische t Über inferior und gesamter vorder- wand. \\\n",
    "    abwechselnd zeigt sich ein totaler lsb',\n",
    "    'xis deviation. r-s transition zone in v leads displaced to the left. low limb lead voltage',\n",
    "    'ruhe-ekg zur ergometrie: mlt, biphasische t Über inferior und gesamter vorder- wand',\n",
    "    'possible left posterior fascicular block',\n",
    "    'suggest exclude digitalis toxicity',\n",
    "    'regular rhythm. p waves not recognised due to baseline artifact. left bundle branch block',\n",
    "    'unbestÄtigter bericht',\n",
    "    'beschleunigter av-rhythmus linkstyp unvollstÄndiger rechtsschenkelblock',\n",
    "    'lagetyp normal',\n",
    "    'regelbunden rytm, inga p-vÅg funna misstÄnkt vÄnster kammarhypertrofi',\n",
    "    'regelbunden rytm, inga p-vÅg funna ospecifik st-fÖrÄndring ospecifik t-fÖrÄndring',\n",
    "    'av- block 2. grades typ i                               linkstyp intraventr. leitungsstoerung f, v1 \\\n",
    "    ekg pathologisch',\n",
    "    'wandernder schrittmacher llt partieller rechts schenkelblock mÖglich t negativ in iii',\n",
    "    'Ålder ej bestÄmmbar t-fÖrÄndring, sÅsom vid    anterolateral myokardaffektion',\n",
    "    'regelbunden rytm, inga p-vÅg funna vÄnster el-axel vÄnster kammarhypertrofi',\n",
    "    'nodal rytm vÄnster el-axel avvikande qrs(t) fÖrlopp    inferior infarkt',\n",
    "    'nodal rytm vÄnster el-axel avvikande qrs(t) fÖrlopp    anteroseptal infarkt     Ålder ej bestÄmmbar ',\n",
    "    'llt sr sicherer chronischer anteroseptaler infarkt st-hebung',\n",
    "    'premature ventricular contraction(s). prolonged pr interval. left axis deviation. left anterior fascicular bloc',\n",
    "    'abnormal, wahrscheinlich    inferolaterale ischÄmie oder linksbelastung',\n",
    "    'wandernder schrittmacher lagetyp normal atriale leitungsstoerung qt-verlÄngerung pathologisch',\n",
    "    'av- block 2. grades typ i                               linkstyp intraventr. leitungsstoerung f, v1   \\\n",
    "    ekg pathologisch',\n",
    "    'mangelhafte r-progression hyperkaliÄmie grenzbefund',\n",
    "    'p wave axis is abnormal and rhythm is probably junctional. minor non-specific st-t wave changes',\n",
    "    'av-knotenrhythmus linkstyp t abnormal in hochlateralen ableitungen    inferioren ableitungen',\n",
    "    'sr, mlt a-v block i grenzbefund',\n",
    "    'old inferior myocardial infarction. left ventricular hypertrophy',\n",
    "    'no definite atrial activity. appearance of junctional rhythm. \\\n",
    "    old inferior myocardial infarction. left ventricular hypertrophy',\n",
    "    'linkstyp intraventr. leitungsstoerung f, v1                      ekg pathologisch',\n",
    "    'av-knotenrhythmus linkstyp unvollstÄndiger rechtsschenkelblock',\n",
    "    'regelmÄssiger rhythmus, keine p-welle erkannt linkstyp qrs(t) abnormal    anteriorer infarkt mÖglich',\n",
    "    'regelmÄssiger rhythmus, keine p-welle erkannt rechtstyp unvollstÄndiger rechtsschenkelblock',\n",
    "    'mÖgl. akut    inferiorer infarkt     alter unbest',\n",
    "    'slag med avvikande impulsutbredning regelbunden rytm, inga p-vÅg funna vÄnster el-axel',\n",
    "    'regelbunden rytm, inga p-vÅg funna',\n",
    "    'av-knotenrhythmus',\n",
    "    'llt sr flaches t in i,iii,l,r verzÖgerte r-progression wahrscheinlich normales ekg',\n",
    "    \n",
    "\n",
    "    \n",
    "]"
   ]
  },
  {
   "cell_type": "code",
   "execution_count": 28,
   "metadata": {},
   "outputs": [],
   "source": [
    "target_dict = {\n",
    "    \n",
    "    'sinus': sinus,\n",
    "    'arithmia': arithmia,\n",
    "    'bradykardie': bradykardie,\n",
    "    'tahicardia': tahicardia,\n",
    "    'fibrillation': fibrillation,\n",
    "    'Nans': nans,\n",
    "    'dont_now': dont_now\n",
    "}"
   ]
  },
  {
   "cell_type": "code",
   "execution_count": 3,
   "metadata": {},
   "outputs": [
    {
     "data": {
      "text/plain": [
       "6588"
      ]
     },
     "execution_count": 3,
     "metadata": {},
     "output_type": "execute_result"
    }
   ],
   "source": [
    "549*12"
   ]
  },
  {
   "cell_type": "code",
   "execution_count": 2,
   "metadata": {},
   "outputs": [
    {
     "data": {
      "text/plain": [
       "14552"
      ]
     },
     "execution_count": 2,
     "metadata": {},
     "output_type": "execute_result"
    }
   ],
   "source": [
    "4046+10506"
   ]
  },
  {
   "cell_type": "code",
   "execution_count": 10,
   "metadata": {},
   "outputs": [
    {
     "data": {
      "text/plain": [
       "8235"
      ]
     },
     "execution_count": 10,
     "metadata": {},
     "output_type": "execute_result"
    }
   ],
   "source": [
    "549*15"
   ]
  },
  {
   "cell_type": "code",
   "execution_count": 12,
   "metadata": {},
   "outputs": [
    {
     "data": {
      "text/plain": [
       "15.583333333333334"
      ]
     },
     "execution_count": 12,
     "metadata": {},
     "output_type": "execute_result"
    }
   ],
   "source": [
    "187/12"
   ]
  },
  {
   "cell_type": "code",
   "execution_count": 7,
   "metadata": {},
   "outputs": [
    {
     "data": {
      "text/plain": [
       "2735776"
      ]
     },
     "execution_count": 7,
     "metadata": {},
     "output_type": "execute_result"
    }
   ],
   "source": [
    "1975128+760648"
   ]
  }
 ],
 "metadata": {
  "kernelspec": {
   "display_name": "Python 3",
   "language": "python",
   "name": "python3"
  },
  "language_info": {
   "codemirror_mode": {
    "name": "ipython",
    "version": 3
   },
   "file_extension": ".py",
   "mimetype": "text/x-python",
   "name": "python",
   "nbconvert_exporter": "python",
   "pygments_lexer": "ipython3",
   "version": "3.7.8"
  }
 },
 "nbformat": 4,
 "nbformat_minor": 4
}
